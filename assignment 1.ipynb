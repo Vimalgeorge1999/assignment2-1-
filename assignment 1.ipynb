{
 "cells": [
  {
   "cell_type": "code",
   "execution_count": 17,
   "id": "72a91bc8",
   "metadata": {},
   "outputs": [
    {
     "name": "stdout",
     "output_type": "stream",
     "text": [
      "[(2, 5), (1, 2), (4, 4), (2, 3), (2, 1)]\n",
      "[(2, 5), (1, 2), (4, 4), (2, 3), (2, 1)]\n",
      "[(2, 5), (1, 2), (4, 4), (2, 3), (2, 1)]\n",
      "[(2, 5), (1, 2), (4, 4), (2, 3), (2, 1)]\n",
      "[(2, 5), (1, 2), (4, 4), (2, 3), (2, 1)]\n"
     ]
    }
   ],
   "source": [
    "x=[(2,5),(1,2),(4,4),(2,3),(2,1)]\n",
    "for i in x: \n",
    "    i=sorted(x[-1])\n",
    "    print(x)"
   ]
  }
 ],
 "metadata": {
  "kernelspec": {
   "display_name": "Python 3 (ipykernel)",
   "language": "python",
   "name": "python3"
  },
  "language_info": {
   "codemirror_mode": {
    "name": "ipython",
    "version": 3
   },
   "file_extension": ".py",
   "mimetype": "text/x-python",
   "name": "python",
   "nbconvert_exporter": "python",
   "pygments_lexer": "ipython3",
   "version": "3.11.0"
  }
 },
 "nbformat": 4,
 "nbformat_minor": 5
}
